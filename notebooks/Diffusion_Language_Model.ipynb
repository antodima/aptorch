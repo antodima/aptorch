{
 "cells": [
  {
   "cell_type": "code",
   "execution_count": 1,
   "id": "4bb50881",
   "metadata": {},
   "outputs": [
    {
     "name": "stderr",
     "output_type": "stream",
     "text": [
      "/home/vscode/.cache/pypoetry/virtualenvs/aptorch-DwoBsKDE-py3.12/lib/python3.12/site-packages/tqdm/auto.py:21: TqdmWarning: IProgress not found. Please update jupyter and ipywidgets. See https://ipywidgets.readthedocs.io/en/stable/user_install.html\n",
      "  from .autonotebook import tqdm as notebook_tqdm\n"
     ]
    }
   ],
   "source": [
    "import random\n",
    "\n",
    "import torch\n",
    "\n",
    "from aptorch.data import (\n",
    "    DivinaCommediaDataset,\n",
    "    divina_commedia,\n",
    "    divina_commedia_tokenizer,\n",
    ")\n",
    "from aptorch.dlm import DLM, pretraining"
   ]
  },
  {
   "cell_type": "code",
   "execution_count": 2,
   "id": "2829bf75",
   "metadata": {},
   "outputs": [
    {
     "name": "stdout",
     "output_type": "stream",
     "text": [
      "\n",
      "\n",
      "\n"
     ]
    }
   ],
   "source": [
    "train_dataset, test_dataset = divina_commedia()\n",
    "tokenizer = divina_commedia_tokenizer(train_dataset)\n",
    "train_set = DivinaCommediaDataset(dataset=train_dataset)\n",
    "test_set = DivinaCommediaDataset(dataset=test_dataset)\n",
    "\n",
    "\n",
    "def collate_fn(batch):\n",
    "    prompts = [tup[0] for tup in batch]\n",
    "    responses = [tup[1] for tup in batch]\n",
    "    prompts_enc = torch.tensor(\n",
    "        [enc.ids for enc in tokenizer.encode_batch(prompts)])\n",
    "    responses_enc = torch.tensor(\n",
    "        [enc.ids for enc in tokenizer.encode_batch(responses)])\n",
    "    return prompts_enc, responses_enc\n"
   ]
  },
  {
   "cell_type": "code",
   "execution_count": null,
   "id": "d14e6d33",
   "metadata": {},
   "outputs": [],
   "source": [
    "lr = 1e-3\n",
    "n_epochs = 1\n",
    "batch_size = 32\n",
    "emb_dim = 32\n",
    "ff_dim = 512\n",
    "mask_ratio = random.uniform(0.01, 0.99)\n",
    "print(f\"mask_ratio={mask_ratio}\")\n",
    "pad_token_id = (tokenizer.encode(\"[PAD]\").ids)[0]\n",
    "mask_token_id = (tokenizer.encode(\"[MASK]\").ids)[0]\n",
    "num_tokens = tokenizer.get_vocab_size()\n",
    "\n",
    "model = DLM(\n",
    "    num_tokens=num_tokens,\n",
    "    emb_dim=emb_dim,\n",
    "    ff_dim=ff_dim,\n",
    "    pad_idx=pad_token_id,\n",
    "    mask_idx=mask_token_id,\n",
    ")\n",
    "optimizer = torch.optim.AdamW(model.parameters(), lr=lr)\n",
    "print(\n",
    "    f\"Number of parameters={sum(p.numel() for p in model.parameters() if p.requires_grad)}\")\n",
    "\n",
    "pretraining(\n",
    "    model=model,\n",
    "    optim=optimizer,\n",
    "    training_set=train_set,\n",
    "    collate_fn=collate_fn,\n",
    "    lr=lr,\n",
    "    n_epochs=n_epochs,\n",
    "    batch_size=batch_size,\n",
    "    emb_dim=emb_dim,\n",
    "    ff_dim=ff_dim,\n",
    "    mask_ratio=mask_ratio,\n",
    "    pad_idx=pad_token_id,\n",
    "    mask_idx=mask_token_id,\n",
    "    num_tokens=num_tokens,\n",
    ")"
   ]
  }
 ],
 "metadata": {
  "kernelspec": {
   "display_name": "aptorch-DwoBsKDE-py3.12",
   "language": "python",
   "name": "python3"
  },
  "language_info": {
   "codemirror_mode": {
    "name": "ipython",
    "version": 3
   },
   "file_extension": ".py",
   "mimetype": "text/x-python",
   "name": "python",
   "nbconvert_exporter": "python",
   "pygments_lexer": "ipython3",
   "version": "3.12.10"
  }
 },
 "nbformat": 4,
 "nbformat_minor": 5
}
