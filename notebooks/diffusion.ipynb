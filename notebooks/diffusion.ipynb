{
 "cells": [
  {
   "cell_type": "code",
   "execution_count": 286,
   "id": "4bb50881",
   "metadata": {},
   "outputs": [],
   "source": [
    "import torch\n",
    "from torch import nn\n",
    "import torch.nn.functional as F\n",
    "\n",
    "from datasets import load_dataset, Dataset\n",
    "\n",
    "from tokenizers import Tokenizer\n",
    "from tokenizers.models import BPE\n",
    "from tokenizers.trainers import BpeTrainer\n",
    "from tokenizers.pre_tokenizers import Whitespace\n",
    "\n",
    "from torch.utils.data import Dataset, DataLoader"
   ]
  },
  {
   "cell_type": "code",
   "execution_count": 119,
   "id": "2829bf75",
   "metadata": {},
   "outputs": [
    {
     "name": "stdout",
     "output_type": "stream",
     "text": [
      "\n",
      "\n",
      "\n"
     ]
    }
   ],
   "source": [
    "dataset = load_dataset(\"maiurilorenzo/divina-commedia\", split=\"train\")\n",
    "train_size = int(len(dataset) * 0.8)\n",
    "\n",
    "train_dataset = dataset[:train_size]\n",
    "test_dataset = dataset[train_size:]\n",
    "\n",
    "tokenizer = Tokenizer(BPE(unk_token=\"[UNK]\"))\n",
    "tokenizer.pre_tokenizer = Whitespace()\n",
    "tokenizer.enable_padding(pad_token=\"[PAD]\")\n",
    "trainer = BpeTrainer(special_tokens=[\"[UNK]\", \"[CLS]\", \"[SEP]\", \"[PAD]\", \"[MASK]\"])\n",
    "\n",
    "tokenizer.train_from_iterator(\n",
    "    train_dataset[\"text\"],\n",
    "    trainer=trainer,\n",
    ")\n"
   ]
  },
  {
   "cell_type": "code",
   "execution_count": 284,
   "id": "737580b7",
   "metadata": {},
   "outputs": [],
   "source": [
    "class DivinaCommediaDataset(Dataset):\n",
    "\n",
    "    def __init__(self, dataset, tokenizer):\n",
    "        self.dataset = dataset\n",
    "\n",
    "    def __len__(self):\n",
    "        return len(self.dataset[\"text\"])\n",
    "\n",
    "    def __getitem__(self, index):\n",
    "        return self.dataset[\"text\"][index]\n",
    "\n",
    "\n",
    "def collate_fn(batch):\n",
    "    inputs = torch.tensor([enc.ids for enc in tokenizer.encode_batch(batch)])\n",
    "    mask = torch.randint(0, 2, inputs.shape)\n",
    "    return inputs, mask\n",
    "\n",
    "\n",
    "train_set = DivinaCommediaDataset(dataset=train_dataset, tokenizer=tokenizer)\n",
    "test_set = DivinaCommediaDataset(dataset=test_dataset, tokenizer=tokenizer)"
   ]
  },
  {
   "cell_type": "code",
   "execution_count": null,
   "id": "1bb6d2cc",
   "metadata": {},
   "outputs": [],
   "source": [
    "num_tokens = tokenizer.get_vocab_size()\n",
    "\n",
    "\n",
    "class DLM(nn.Module):\n",
    "\n",
    "    def __init__(self, num_tokens: int, emb_dim: int):\n",
    "        super().__init__()\n",
    "        self.num_tokens = num_tokens\n",
    "        self.emb_dim = emb_dim\n",
    "        self.emb_token = nn.Embedding(\n",
    "            num_embeddings=self.num_tokens,\n",
    "            embedding_dim=self.emb_dim,\n",
    "        )\n",
    "\n",
    "    def forward(self, x):\n",
    "        x = self.emb_token(x)\n",
    "        return x\n",
    "\n",
    "\n",
    "def train(n_epochs: int, batch_size: int, emb_dim: int):\n",
    "    torch.manual_seed(23)\n",
    "    for epoch in range(n_epochs):\n",
    "        train_loader = DataLoader(\n",
    "            train_set, collate_fn=collate_fn, batch_size=batch_size, shuffle=True)\n",
    "\n",
    "        model = DLM(num_tokens=num_tokens, emb_dim=emb_dim)\n",
    "        for x, m in train_loader:\n",
    "            x_masked = x * m\n",
    "            y_pred = model(x)"
   ]
  },
  {
   "cell_type": "code",
   "execution_count": null,
   "id": "d14e6d33",
   "metadata": {},
   "outputs": [],
   "source": []
  }
 ],
 "metadata": {
  "kernelspec": {
   "display_name": "aptorch-DwoBsKDE-py3.12",
   "language": "python",
   "name": "python3"
  },
  "language_info": {
   "codemirror_mode": {
    "name": "ipython",
    "version": 3
   },
   "file_extension": ".py",
   "mimetype": "text/x-python",
   "name": "python",
   "nbconvert_exporter": "python",
   "pygments_lexer": "ipython3",
   "version": "3.12.10"
  }
 },
 "nbformat": 4,
 "nbformat_minor": 5
}
