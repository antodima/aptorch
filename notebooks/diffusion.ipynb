{
 "cells": [
  {
   "cell_type": "code",
   "execution_count": 118,
   "id": "4bb50881",
   "metadata": {},
   "outputs": [],
   "source": [
    "import torch\n",
    "\n",
    "from datasets import load_dataset, Dataset\n",
    "\n",
    "from tokenizers import Tokenizer\n",
    "from tokenizers.models import BPE\n",
    "from tokenizers.trainers import BpeTrainer\n",
    "from tokenizers.pre_tokenizers import Whitespace\n",
    "\n",
    "from torch.utils.data import Dataset, DataLoader"
   ]
  },
  {
   "cell_type": "code",
   "execution_count": 119,
   "id": "2829bf75",
   "metadata": {},
   "outputs": [
    {
     "name": "stdout",
     "output_type": "stream",
     "text": [
      "\n",
      "\n",
      "\n"
     ]
    }
   ],
   "source": [
    "dataset = load_dataset(\"maiurilorenzo/divina-commedia\", split=\"train\")\n",
    "train_size = int(len(dataset) * 0.8)\n",
    "\n",
    "train_dataset = dataset[:train_size]\n",
    "test_dataset = dataset[train_size:]\n",
    "\n",
    "tokenizer = Tokenizer(BPE(unk_token=\"[UNK]\"))\n",
    "tokenizer.pre_tokenizer = Whitespace()\n",
    "tokenizer.enable_padding(pad_token=\"[PAD]\")\n",
    "trainer = BpeTrainer(special_tokens=[\"[UNK]\", \"[CLS]\", \"[SEP]\", \"[PAD]\", \"[MASK]\"])\n",
    "\n",
    "tokenizer.train_from_iterator(\n",
    "    train_dataset[\"text\"],\n",
    "    trainer=trainer,\n",
    ")\n"
   ]
  },
  {
   "cell_type": "code",
   "execution_count": 211,
   "id": "737580b7",
   "metadata": {},
   "outputs": [
    {
     "name": "stdout",
     "output_type": "stream",
     "text": [
      "['Nel mezzo del cammin di nostra vita', 'mi ritrovai per una selva oscura,', 'ché la diritta via era smarrita.', 'Ahi quanto a dir qual era è cosa dura', 'esta selva selvaggia e aspra e forte']\n"
     ]
    }
   ],
   "source": [
    "class DivinaCommediaDataset(Dataset):\n",
    "\n",
    "    def __init__(self, dataset, tokenizer):\n",
    "        self.dataset = dataset\n",
    "\n",
    "    def __len__(self):\n",
    "        return len(self.dataset[\"text\"])\n",
    "\n",
    "    def __getitem__(self, index):\n",
    "        return self.dataset[\"text\"][index]\n",
    "\n",
    "\n",
    "train_set = DivinaCommediaDataset(dataset=train_dataset, tokenizer=tokenizer)\n",
    "test_set = DivinaCommediaDataset(dataset=test_dataset, tokenizer=tokenizer)\n",
    "\n",
    "print(train_set[:5])"
   ]
  },
  {
   "cell_type": "code",
   "execution_count": null,
   "id": "1bb6d2cc",
   "metadata": {},
   "outputs": [],
   "source": [
    "import torch\n",
    "from torch import nn\n",
    "import torch.nn.functional as F\n",
    "\n",
    "\n",
    "num_tokens = tokenizer.get_vocab_size()\n",
    "\n",
    "\n",
    "class DLM(nn.Module):\n",
    "\n",
    "    def __init__(self, num_tokens: int, emb_dim: int):\n",
    "        super().__init__()\n",
    "        self.num_tokens = num_tokens\n",
    "        self.emb_dim = emb_dim\n",
    "        self.emb_token = nn.Embedding(\n",
    "            num_embeddings=self.num_tokens,\n",
    "            embedding_dim=self.emb_dim,\n",
    "        )\n",
    "\n",
    "    def forward(self, x):\n",
    "        x = self.emb_token(x)\n",
    "        return x\n",
    "\n",
    "\n",
    "def collate_fn(batch):\n",
    "    ids = torch.tensor([enc.ids for enc in tokenizer.encode_batch(batch)])\n",
    "    return ids, ids\n",
    "\n",
    "\n",
    "train_loader = DataLoader(train_set, collate_fn=collate_fn, batch_size=16)\n",
    "\n",
    "model = DLM(num_tokens=num_tokens, emb_dim=128)\n",
    "for x, y in train_loader:\n",
    "    y_pred = model(x)\n",
    "    print(y_pred.shape)"
   ]
  },
  {
   "cell_type": "code",
   "execution_count": null,
   "id": "45dd44c6",
   "metadata": {},
   "outputs": [],
   "source": []
  }
 ],
 "metadata": {
  "kernelspec": {
   "display_name": "aptorch-DwoBsKDE-py3.12",
   "language": "python",
   "name": "python3"
  },
  "language_info": {
   "codemirror_mode": {
    "name": "ipython",
    "version": 3
   },
   "file_extension": ".py",
   "mimetype": "text/x-python",
   "name": "python",
   "nbconvert_exporter": "python",
   "pygments_lexer": "ipython3",
   "version": "3.12.10"
  }
 },
 "nbformat": 4,
 "nbformat_minor": 5
}
