{
 "cells": [
  {
   "cell_type": "markdown",
   "id": "a958359f",
   "metadata": {},
   "source": [
    "# Diffusion Language Models"
   ]
  },
  {
   "cell_type": "code",
   "execution_count": null,
   "id": "4bb50881",
   "metadata": {},
   "outputs": [],
   "source": [
    "import random\n",
    "import requests\n",
    "\n",
    "import torch\n",
    "from torch.utils.data import DataLoader\n",
    "\n",
    "from datasets import Dataset\n",
    "from transformers import AutoTokenizer\n",
    "\n",
    "from aptorch.dlm import DLM, pretraining"
   ]
  },
  {
   "cell_type": "code",
   "execution_count": null,
   "id": "c5f4964e",
   "metadata": {},
   "outputs": [],
   "source": [
    "url = \"https://dmf.unicatt.it/~della/pythoncourse18/commedia.txt\"\n",
    "response = requests.get(url)\n",
    "raw_data = response.text\n",
    "sentences = [s.strip() for s in raw_data.replace(\"\\n\", \"\").split(\"\\r\") if s]\n",
    "train_size = int(len(sentences) * 0.8)\n",
    "\n",
    "train_set = Dataset.from_dict({'text': sentences[:train_size]})\n",
    "test_set = Dataset.from_dict({'text': sentences[train_size:]})\n",
    "\n",
    "tokenizer = AutoTokenizer.from_pretrained('dbmdz/bert-base-italian-cased')\n",
    "tokenizer.padding_side = 'right'\n",
    "\n",
    "def collate_fn(batch):\n",
    "    texts = [b[\"text\"] for b in batch]\n",
    "    enc_batch = tokenizer(\n",
    "        texts,\n",
    "        add_special_tokens=False,\n",
    "        padding=True,\n",
    "        return_tensors='pt',\n",
    "    )\n",
    "    return enc_batch.input_ids\n"
   ]
  },
  {
   "cell_type": "code",
   "execution_count": null,
   "id": "d14e6d33",
   "metadata": {},
   "outputs": [],
   "source": [
    "lr = 1e-3\n",
    "n_epochs = 10\n",
    "batch_size = 16\n",
    "emb_dim = 32\n",
    "ff_dim = 64\n",
    "mask_ratio = random.uniform(0.01, 0.99)\n",
    "pad_token_id = tokenizer.pad_token_id\n",
    "mask_token_id = tokenizer.mask_token_id\n",
    "num_tokens = tokenizer.vocab_size\n",
    "\n",
    "print(\">> Pretraining step:\")\n",
    "print(f\"mask_ratio: {mask_ratio}\")\n",
    "print(f\"pad_token_id: {pad_token_id}\")\n",
    "print(f\"mask_token_id: {mask_token_id}\")\n",
    "print(f\"num_tokens: {num_tokens}\")\n",
    "\n",
    "model: DLM = pretraining(\n",
    "    training_set=train_set,\n",
    "    collate_fn=collate_fn,\n",
    "    lr=lr,\n",
    "    n_epochs=n_epochs,\n",
    "    batch_size=batch_size,\n",
    "    emb_dim=emb_dim,\n",
    "    ff_dim=ff_dim,\n",
    "    mask_ratio=mask_ratio,\n",
    "    pad_idx=pad_token_id,\n",
    "    mask_idx=mask_token_id,\n",
    "    num_tokens=num_tokens,\n",
    ")\n"
   ]
  },
  {
   "cell_type": "code",
   "execution_count": null,
   "id": "89541b89",
   "metadata": {},
   "outputs": [],
   "source": [
    "x = train_set[4][\"text\"]\n",
    "print(x)\n",
    "x_enc = tokenizer(x, add_special_tokens=False, return_tensors='pt').input_ids\n",
    "print(x_enc)\n",
    "x_part = x_enc[:,:-3]\n",
    "\n",
    "print(tokenizer.batch_decode(x_enc))\n",
    "print(tokenizer.batch_decode(x_part))\n",
    "\n",
    "max_seq_len = x_enc.shape[1]\n",
    "prompt_len = x_part.shape[1]\n",
    "print(\"max_seq_len\", max_seq_len)\n",
    "print(\"prompt_len\", prompt_len)\n",
    "\n",
    "model.eval()\n",
    "sampled = model.sample(x_part, max_seq_len, 5)\n",
    "tokenizer.batch_decode(sampled.tolist())"
   ]
  },
  {
   "cell_type": "code",
   "execution_count": null,
   "id": "9d5cc8f5",
   "metadata": {},
   "outputs": [],
   "source": []
  }
 ],
 "metadata": {
  "kernelspec": {
   "display_name": "aptorch-DwoBsKDE-py3.12",
   "language": "python",
   "name": "python3"
  },
  "language_info": {
   "codemirror_mode": {
    "name": "ipython",
    "version": 3
   },
   "file_extension": ".py",
   "mimetype": "text/x-python",
   "name": "python",
   "nbconvert_exporter": "python",
   "pygments_lexer": "ipython3",
   "version": "3.12.10"
  }
 },
 "nbformat": 4,
 "nbformat_minor": 5
}
