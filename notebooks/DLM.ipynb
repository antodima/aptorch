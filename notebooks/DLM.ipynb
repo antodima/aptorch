{
 "cells": [
  {
   "cell_type": "markdown",
   "id": "a958359f",
   "metadata": {},
   "source": [
    "# Diffusion Language Models"
   ]
  },
  {
   "cell_type": "code",
   "execution_count": null,
   "id": "4bb50881",
   "metadata": {},
   "outputs": [],
   "source": [
    "import random\n",
    "import requests\n",
    "\n",
    "from datasets import Dataset\n",
    "from transformers import AutoTokenizer\n",
    "\n",
    "from torch.utils.data import DataLoader\n",
    "\n",
    "import lightning as L\n",
    "from lightning.pytorch import seed_everything\n",
    "from lightning.pytorch.callbacks import EarlyStopping\n",
    "\n",
    "from aptorch.dlm import DLM_Pretrained\n",
    "\n",
    "seed_everything(42, workers=True)"
   ]
  },
  {
   "cell_type": "code",
   "execution_count": null,
   "id": "c5f4964e",
   "metadata": {},
   "outputs": [],
   "source": [
    "url = \"https://dmf.unicatt.it/~della/pythoncourse18/commedia.txt\"\n",
    "response = requests.get(url)\n",
    "raw_data = response.text\n",
    "sentences = [s.strip() for s in raw_data.replace(\"\\n\", \"\").split(\"\\r\") if s]\n",
    "design_size = int(len(sentences) * 0.8)\n",
    "valid_size = int(design_size * 0.2)\n",
    "\n",
    "train_set = Dataset.from_dict({'text': sentences[:design_size-valid_size]})\n",
    "valid_set = Dataset.from_dict(\n",
    "    {'text': sentences[design_size-valid_size:design_size]})\n",
    "test_set = Dataset.from_dict({'text': sentences[design_size:]})\n",
    "print(f\"total={len(sentences)}, train={len(train_set)}, valid={len(valid_set)}, test={len(test_set)}\")\n",
    "\n",
    "tokenizer = AutoTokenizer.from_pretrained('dbmdz/bert-base-italian-cased')\n",
    "tokenizer.padding_side = 'right'\n",
    "\n",
    "\n",
    "def collate_fn(batch):\n",
    "    texts = [b[\"text\"] for b in batch]\n",
    "    enc_batch = tokenizer(\n",
    "        texts,\n",
    "        add_special_tokens=False,\n",
    "        padding=True,\n",
    "        return_tensors='pt',\n",
    "    )\n",
    "    return enc_batch.input_ids"
   ]
  },
  {
   "cell_type": "code",
   "execution_count": null,
   "id": "064b1053",
   "metadata": {},
   "outputs": [],
   "source": [
    "params = {\n",
    "    \"lr\": 1e-3,\n",
    "    \"emb_dim\": 32,\n",
    "    \"ff_dim\": 64,\n",
    "    \"mask_ratio\": random.uniform(0.01, 0.99),\n",
    "    \"pad_idx\": tokenizer.pad_token_id,\n",
    "    \"mask_idx\": tokenizer.mask_token_id,\n",
    "    \"num_tokens\": tokenizer.vocab_size,\n",
    "}\n",
    "train_loader = DataLoader(\n",
    "    train_set,\n",
    "    collate_fn=collate_fn,\n",
    "    batch_size=16,\n",
    "    shuffle=True,\n",
    ")\n",
    "valid_loader = DataLoader(\n",
    "    valid_set,\n",
    "    collate_fn=collate_fn,\n",
    "    batch_size=16,\n",
    "    shuffle=False,\n",
    ")\n",
    "\n",
    "model = DLM_Pretrained(**params)\n",
    "trainer = L.Trainer(\n",
    "    max_epochs=100,\n",
    "    devices=\"auto\",\n",
    "    deterministic=True,\n",
    "    callbacks=[\n",
    "        EarlyStopping('val_loss'),\n",
    "    ],\n",
    "    # fast_dev_run=True,\n",
    ")\n",
    "trainer.fit(\n",
    "    model=model,\n",
    "    train_dataloaders=train_loader,\n",
    "    val_dataloaders=valid_loader,\n",
    ")"
   ]
  },
  {
   "cell_type": "code",
   "execution_count": null,
   "id": "f93601b9",
   "metadata": {},
   "outputs": [],
   "source": [
    "test_loader = DataLoader(\n",
    "    test_set,\n",
    "    collate_fn=collate_fn,\n",
    "    batch_size=1,\n",
    "    shuffle=False,\n",
    ")\n",
    "# trainer.predict(model, test_loader, max_seq_len=20, sampling_steps=10)\n",
    "for x in test_loader:\n",
    "    max_seq_len = x.shape[1]\n",
    "    sampling_steps = 10\n",
    "    x_partial = x[:, :-5]\n",
    "    print(\"----\")\n",
    "    print(\"original\", tokenizer.batch_decode(x.tolist()))\n",
    "    print(\"input\", tokenizer.batch_decode(x_partial.tolist()))\n",
    "    output = model.sample(x_partial, max_seq_len, sampling_steps)\n",
    "    print(\"output\", tokenizer.batch_decode(output.tolist()))"
   ]
  },
  {
   "cell_type": "code",
   "execution_count": null,
   "id": "9d5cc8f5",
   "metadata": {},
   "outputs": [],
   "source": []
  }
 ],
 "metadata": {
  "kernelspec": {
   "display_name": "aptorch-DwoBsKDE-py3.12",
   "language": "python",
   "name": "python3"
  },
  "language_info": {
   "codemirror_mode": {
    "name": "ipython",
    "version": 3
   },
   "file_extension": ".py",
   "mimetype": "text/x-python",
   "name": "python",
   "nbconvert_exporter": "python",
   "pygments_lexer": "ipython3",
   "version": "3.12.10"
  }
 },
 "nbformat": 4,
 "nbformat_minor": 5
}
