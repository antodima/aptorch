{
 "cells": [
  {
   "cell_type": "markdown",
   "id": "0850ca0b",
   "metadata": {},
   "source": [
    "# Shakespeare"
   ]
  },
  {
   "cell_type": "code",
   "execution_count": null,
   "id": "4eff77e5",
   "metadata": {},
   "outputs": [],
   "source": [
    "%cd ..\n",
    "from torch.utils.data import DataLoader\n",
    "from aptorch.data import get_shakespeare_text, ShakespeareDataset"
   ]
  },
  {
   "cell_type": "code",
   "execution_count": null,
   "id": "7c919479",
   "metadata": {},
   "outputs": [],
   "source": [
    "text = get_shakespeare_text()\n",
    "train_size = int(len(text) * 0.9)\n",
    "train_text = text[:train_size]\n",
    "test_text = text[train_size:]\n",
    "characters = sorted(list(set(train_text)))\n",
    "pad_token, mask_token, unk_token = \"[PAD]\", \"[MASK]\", \"[UNK]\"\n",
    "special_tokens = {\n",
    "    0: pad_token,\n",
    "    1: mask_token,\n",
    "    2: unk_token,\n",
    "}\n",
    "start_idx = max(list(special_tokens.keys())) + 1\n",
    "char_tokens = {i + start_idx: c for i, c in enumerate(characters)}\n",
    "i2c = {**special_tokens, **char_tokens}  # index to char\n",
    "c2i = {v: k for k, v in i2c.items()}  # char to index\n",
    "print(f\"characters: {len(characters)}\")\n",
    "print(f\"i2c: {i2c}\")\n",
    "print(f\"c2i: {c2i}\")"
   ]
  },
  {
   "cell_type": "code",
   "execution_count": null,
   "id": "94703da3",
   "metadata": {},
   "outputs": [],
   "source": [
    "train_set = ShakespeareDataset(train_text, c2i, unk_token)\n",
    "train_loader = DataLoader(train_set, batch_size=8)\n",
    "for x, y in train_loader:\n",
    "    print(x.shape, y.shape)"
   ]
  }
 ],
 "metadata": {
  "kernelspec": {
   "display_name": "aptorch",
   "language": "python",
   "name": "python3"
  },
  "language_info": {
   "codemirror_mode": {
    "name": "ipython",
    "version": 3
   },
   "file_extension": ".py",
   "mimetype": "text/x-python",
   "name": "python",
   "nbconvert_exporter": "python",
   "pygments_lexer": "ipython3",
   "version": "3.13.2"
  }
 },
 "nbformat": 4,
 "nbformat_minor": 5
}
